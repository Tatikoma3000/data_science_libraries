{
 "cells": [
  {
   "cell_type": "markdown",
   "id": "70f35652",
   "metadata": {},
   "source": [
    "### Task 1\n",
    "Создать одномерный массив Numpy под названием a из 12 последовательных целых чисел чисел от 12 до 24 невключительно"
   ]
  },
  {
   "cell_type": "code",
   "execution_count": 7,
   "id": "4a3855a0",
   "metadata": {},
   "outputs": [
    {
     "name": "stdout",
     "output_type": "stream",
     "text": [
      "a=[12 13 14 15 16 17 18 19 20 21 22 23], b =[12.         13.09090909 14.18181818 15.27272727 16.36363636 17.45454545\n",
      " 18.54545455 19.63636364 20.72727273 21.81818182 22.90909091 24.        ], Почему выводятся разные массивы?\n"
     ]
    }
   ],
   "source": [
    "import numpy as np\n",
    "a = np.array([i for i in range(12,24)])\n",
    "b = np.linspace(12, 24, 12)\n",
    "print(f'a={a}, b ={b}, Почему выводятся разные массивы?')"
   ]
  },
  {
   "cell_type": "markdown",
   "id": "257e23b5",
   "metadata": {},
   "source": [
    "### Task 2\n",
    "Создать 5 двумерных массивов разной формы из массива a. Не использовать в аргументах метода reshape число -1."
   ]
  },
  {
   "cell_type": "code",
   "execution_count": 19,
   "id": "a648fb39",
   "metadata": {},
   "outputs": [
    {
     "data": {
      "text/plain": [
       "array([[12, 13, 14],\n",
       "       [15, 16, 17],\n",
       "       [18, 19, 20],\n",
       "       [21, 22, 23]])"
      ]
     },
     "execution_count": 19,
     "metadata": {},
     "output_type": "execute_result"
    }
   ],
   "source": [
    "a1 = a.reshape(3,4)\n",
    "a2 = a.reshape(2,6)\n",
    "a3 = a.reshape(12,1)\n",
    "a4 = a.reshape(6,2)\n",
    "a5 = a.reshape(4,3)"
   ]
  },
  {
   "cell_type": "markdown",
   "id": "f257f485",
   "metadata": {},
   "source": [
    "### Task 3\n",
    "Создать 5 двумерных массивов разной формы из массива a. Использовать в аргументах метода reshape число -1 (в трех примерах - для обозначения числа столбцов, в двух - для строк)."
   ]
  },
  {
   "cell_type": "code",
   "execution_count": 23,
   "id": "80c45546",
   "metadata": {},
   "outputs": [],
   "source": [
    "b1 = a.reshape(3, -1)\n",
    "b1 = a.reshape(4, -1)\n",
    "b1 = a.reshape(6, -1)\n",
    "b1 = a.reshape(-1, 3)\n",
    "b1 = a.reshape(-1, 4)"
   ]
  },
  {
   "cell_type": "markdown",
   "id": "2e9a3040",
   "metadata": {},
   "source": [
    "### Task 4\n",
    "Можно ли массив Numpy, состоящий из одного столбца и 12 строк, назвать одномерным?"
   ]
  },
  {
   "cell_type": "markdown",
   "id": "8b1915b3",
   "metadata": {},
   "source": [
    "Ответ: да"
   ]
  },
  {
   "cell_type": "markdown",
   "id": "7fb7c4b3",
   "metadata": {},
   "source": [
    "### Task 5\n",
    "Создать массив из 3 строк и 4 столбцов, состоящий из случайных чисел с плавающей запятой из нормального распределения со средним, равным 0 и среднеквадратичным отклонением, равным 1.0. Получить из этого массива одномерный массив с таким же атрибутом size, как и исходный массив."
   ]
  },
  {
   "cell_type": "code",
   "execution_count": 36,
   "id": "efdca37e",
   "metadata": {},
   "outputs": [
    {
     "name": "stdout",
     "output_type": "stream",
     "text": [
      "[[ 0.80946828 -1.22219535  0.41098601 -0.22125661]\n",
      " [-1.35582252  0.18460137 -1.00457247  0.19327418]\n",
      " [ 3.13865929  0.53490539 -0.29363461  1.02106031]]\n"
     ]
    },
    {
     "data": {
      "text/plain": [
       "array([ 0.80946828, -1.22219535,  0.41098601, -0.22125661, -1.35582252,\n",
       "        0.18460137, -1.00457247,  0.19327418,  3.13865929,  0.53490539,\n",
       "       -0.29363461,  1.02106031])"
      ]
     },
     "execution_count": 36,
     "metadata": {},
     "output_type": "execute_result"
    }
   ],
   "source": [
    "n = 3\n",
    "m = 4\n",
    "s = np.random.normal(0, 1, n*m).reshape(n,m)\n",
    "print(s)\n",
    "new_s = s.reshape(n*m)\n",
    "new_s"
   ]
  },
  {
   "cell_type": "markdown",
   "id": "98c66c63",
   "metadata": {},
   "source": [
    "### Task 6\n",
    "Создать массив a, состоящий из целых чисел, убывающих от 20 до 0 невключительно с интервалом 2."
   ]
  },
  {
   "cell_type": "code",
   "execution_count": 43,
   "id": "fba620f4",
   "metadata": {},
   "outputs": [
    {
     "data": {
      "text/plain": [
       "array([20, 18, 16, 14, 12, 10,  8,  6,  4,  2])"
      ]
     },
     "execution_count": 43,
     "metadata": {},
     "output_type": "execute_result"
    }
   ],
   "source": [
    "a = np.array([i for i in range(20, 0, -2)])\n",
    "a"
   ]
  },
  {
   "cell_type": "markdown",
   "id": "98261398",
   "metadata": {},
   "source": [
    "### Task 7\n",
    "Создать массив b, состоящий из 1 строки и 10 столбцов: целых чисел, убывающих от 20 до 1 невключительно с интервалом 2. В чем разница между массивами a и b?"
   ]
  },
  {
   "cell_type": "code",
   "execution_count": 44,
   "id": "ab1c9768",
   "metadata": {},
   "outputs": [
    {
     "name": "stdout",
     "output_type": "stream",
     "text": [
      "Разница в том, что массив a - одномерный, а массив b - двумерный\n"
     ]
    },
    {
     "data": {
      "text/plain": [
       "array([[20, 18, 16, 14, 12, 10,  8,  6,  4,  2]])"
      ]
     },
     "execution_count": 44,
     "metadata": {},
     "output_type": "execute_result"
    }
   ],
   "source": [
    "b = np.array([i for i in range(20, 1, -2)]).reshape(1, 10)\n",
    "print('Разница в том, что массив a - одномерный, а массив b - двумерный')\n",
    "b"
   ]
  },
  {
   "cell_type": "markdown",
   "id": "fc58a5bb",
   "metadata": {},
   "source": [
    "### Task 8\n",
    "Вертикально соединить массивы a и b. a - двумерный массив из нулей, число строк которого больше 1 и на 1 меньше, чем число строк двумерного массива b, состоящего из единиц. Итоговый массив v должен иметь атрибут size, равный 10."
   ]
  },
  {
   "cell_type": "code",
   "execution_count": 145,
   "id": "5bed262f",
   "metadata": {},
   "outputs": [
    {
     "data": {
      "text/plain": [
       "array([[0., 0.],\n",
       "       [0., 0.],\n",
       "       [1., 1.],\n",
       "       [1., 1.],\n",
       "       [1., 1.]])"
      ]
     },
     "execution_count": 145,
     "metadata": {},
     "output_type": "execute_result"
    }
   ],
   "source": [
    "a = np.zeros((2, 2))\n",
    "b = np.ones((3,2))\n",
    "v = np.vstack((a,b))\n",
    "v"
   ]
  },
  {
   "cell_type": "markdown",
   "id": "38c735e9",
   "metadata": {},
   "source": [
    "### Task 9\n",
    "Создать одномерный массив а, состоящий из последовательности целых чисел от 0 до 12. Поменять форму этого массива, чтобы получилась матрица A (двумерный массив Numpy), состоящая из 4 строк и 3 столбцов. Получить матрицу At путем транспонирования матрицы A. Получить матрицу B, умножив матрицу A на матрицу At с помощью матричного умножения. Какой размер имеет матрица B? Получится ли вычислить обратную матрицу для матрицы B и почему?"
   ]
  },
  {
   "cell_type": "code",
   "execution_count": 84,
   "id": "159f85d1",
   "metadata": {},
   "outputs": [
    {
     "name": "stdout",
     "output_type": "stream",
     "text": [
      "Обратной матрицы нет, потому что определить равен 0.0\n"
     ]
    }
   ],
   "source": [
    "a = np.array([i for i in range(0, 12)])\n",
    "A = a.reshape(4, -1)\n",
    "At = A.T\n",
    "B = np.dot(A, At)\n",
    "print(f'Обратной матрицы нет, потому что определить равен {np.linalg.det(B)}')"
   ]
  },
  {
   "cell_type": "markdown",
   "id": "bc9261ed",
   "metadata": {},
   "source": [
    "### Task 10\n",
    "Инициализируйте генератор случайных числе с помощью объекта seed, равного 42."
   ]
  },
  {
   "cell_type": "code",
   "execution_count": 92,
   "id": "b6d37489",
   "metadata": {},
   "outputs": [
    {
     "data": {
      "text/plain": [
       "array([0.37454012, 0.95071431, 0.73199394, 0.59865848, 0.15601864,\n",
       "       0.15599452, 0.05808361, 0.86617615, 0.60111501, 0.70807258])"
      ]
     },
     "execution_count": 92,
     "metadata": {},
     "output_type": "execute_result"
    }
   ],
   "source": [
    "np.random.seed(42)\n",
    "mas = np.random.random(10)\n",
    "mas"
   ]
  },
  {
   "cell_type": "markdown",
   "id": "eef9f627",
   "metadata": {},
   "source": [
    "### Task 11\n",
    "Создайте одномерный массив c, составленный из последовательности 16-ти случайных равномерно распределенных целых чисел от 0 до 16 невключительно. "
   ]
  },
  {
   "cell_type": "code",
   "execution_count": 123,
   "id": "d5cc979f",
   "metadata": {},
   "outputs": [
    {
     "data": {
      "text/plain": [
       "array([ 5.40184274, 15.08655526,  5.17124691,  8.30064995, 11.24830334,\n",
       "        5.81807364, 15.54851332, 15.39915672,  4.02851673,  7.95597609,\n",
       "        4.81405296,  4.55744791,  0.59019116,  9.75302934,  8.04286437,\n",
       "        0.82366002])"
      ]
     },
     "execution_count": 123,
     "metadata": {},
     "output_type": "execute_result"
    }
   ],
   "source": [
    "c = np.random.uniform(0, 16, (16))\n",
    "c"
   ]
  },
  {
   "cell_type": "markdown",
   "id": "fb685b9d",
   "metadata": {},
   "source": [
    "### Task 12\n",
    "Поменяйте его форму так, чтобы получилась квадратная матрица C. Получите матрицу D, поэлементно прибавив матрицу B из предыдущего вопроса к матрице C, умноженной на 10. Вычислите определитель, ранг и обратную матрицу D_inv для D."
   ]
  },
  {
   "cell_type": "code",
   "execution_count": 127,
   "id": "641e5afd",
   "metadata": {},
   "outputs": [
    {
     "name": "stdout",
     "output_type": "stream",
     "text": [
      "[[ 59.01842742 164.86555263  74.71246912 115.00649948]\n",
      " [126.48303342 108.18073638 241.48513324 275.99156719]\n",
      " [ 63.28516733 165.55976094 197.14052957 257.5744791 ]\n",
      " [ 37.90191158 219.53029344 292.42864372 310.2366002 ]]\n",
      "132650706.47825904\n",
      "4\n",
      "[[ 0.0085715   0.01022927 -0.01050884 -0.00355265]\n",
      " [ 0.00851485 -0.00229371 -0.00534683  0.00332323]\n",
      " [ 0.0028582   0.00796916 -0.02727424  0.01449544]\n",
      " [-0.00976662 -0.00713836  0.03077607 -0.01235759]]\n"
     ]
    }
   ],
   "source": [
    "C = c.reshape(int(np.sqrt(c.size)), -1)\n",
    "D = np.dot(C, 10) + B\n",
    "print(D)\n",
    "print(np.linalg.det(D))\n",
    "print(np.linalg.matrix_rank(D))\n",
    "D_inv = np.linalg.inv(D)\n",
    "print(D_inv)"
   ]
  },
  {
   "cell_type": "markdown",
   "id": "69c2e42a",
   "metadata": {},
   "source": [
    "### Task 13\n",
    "Приравняйте к нулю отрицательные числа в матрице D_inv, а положительные - к единице. Убедитесь, что в матрице D_inv остались только нули и единицы. С помощью функции numpy.where, используя матрицу D_inv в качестве маски, а матрицы B и C - в качестве источников данных, получите матрицу E размером 4x4.  Элементы матрицы E, для которых соответствующий элемент матрицы D_inv равен 1, должны быть равны соответствующему элементу матрицы B, а элементы матрицы E, для которых соответствующий элемент матрицы D_inv равен 0, должны быть равны соответствующему элементу матрицы C."
   ]
  },
  {
   "cell_type": "code",
   "execution_count": 141,
   "id": "f00d1729",
   "metadata": {},
   "outputs": [
    {
     "name": "stdout",
     "output_type": "stream",
     "text": [
      "[[1 1 0 0]\n",
      " [1 0 0 1]\n",
      " [1 1 0 1]\n",
      " [0 0 1 0]]\n"
     ]
    },
    {
     "data": {
      "text/plain": [
       "array([[  5.        ,  14.        ,   5.17124691,   8.30064995],\n",
       "       [ 14.        ,   5.81807364,  15.54851332, 122.        ],\n",
       "       [ 23.        ,  86.        ,   4.81405296, 212.        ],\n",
       "       [  0.59019116,   9.75302934, 212.        ,   0.82366002]])"
      ]
     },
     "execution_count": 141,
     "metadata": {},
     "output_type": "execute_result"
    }
   ],
   "source": [
    "D_inv = np.where(D_inv > 0, 1, 0)\n",
    "print(D_inv)\n",
    "E = np.where(D_inv == 1, B, C)\n",
    "E"
   ]
  },
  {
   "cell_type": "code",
   "execution_count": null,
   "id": "efa5512e",
   "metadata": {},
   "outputs": [],
   "source": []
  }
 ],
 "metadata": {
  "kernelspec": {
   "display_name": "Python 3 (ipykernel)",
   "language": "python",
   "name": "python3"
  },
  "language_info": {
   "codemirror_mode": {
    "name": "ipython",
    "version": 3
   },
   "file_extension": ".py",
   "mimetype": "text/x-python",
   "name": "python",
   "nbconvert_exporter": "python",
   "pygments_lexer": "ipython3",
   "version": "3.9.12"
  }
 },
 "nbformat": 4,
 "nbformat_minor": 5
}
